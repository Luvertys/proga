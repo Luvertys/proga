{
  "nbformat": 4,
  "nbformat_minor": 0,
  "metadata": {
    "colab": {
      "provenance": []
    },
    "kernelspec": {
      "name": "python3",
      "display_name": "Python 3"
    },
    "language_info": {
      "name": "python"
    }
  },
  "cells": [
    {
      "cell_type": "markdown",
      "source": [
        "ФИО:"
      ],
      "metadata": {
        "id": "ZLVI_WIcuT56"
      }
    },
    {
      "cell_type": "code",
      "source": [
        "кабанова валерия евгеньевна"
      ],
      "metadata": {
        "id": "3AfG_Tal0P2S"
      },
      "execution_count": null,
      "outputs": []
    },
    {
      "cell_type": "markdown",
      "source": [
        "## Задание 1. HTTP-запросы, ответы и погода\n",
        "\n",
        "Напишите HTTP-запрос для получения информации о погоде в введенном городе из API. Можно использовать API: https://open-meteo.com/. Используйте метод GET.\n",
        "\n",
        "\n",
        "Ввод\n",
        "```\n",
        "56.50, 60.35\n",
        "```\n",
        "\n",
        "Вывод\n",
        "```\n",
        "Сегодня (1.11) погода 20 ◦С, нет осадков, туман\n",
        "```\n",
        "\n",
        "\n",
        "\n"
      ],
      "metadata": {
        "id": "FtjnLNIKzfMZ"
      }
    },
    {
      "cell_type": "code",
      "source": [
        "import requests\n",
        "from datetime import datetime\n",
        "\n",
        "\n",
        "def get_weather(cord1, cord2):\n",
        "    url = f\"https://api.open-meteo.com/v1/forecast?latitude={cord1}&longitude={cord2}&current_weather=true\"\n",
        "\n",
        "    response = requests.get(url)\n",
        "\n",
        "    if response.status_code == 200:\n",
        "        data = response.json()\n",
        "\n",
        "        current_weather = data.get(\"current_weather\", {})\n",
        "        temperature = current_weather.get(\"temperature\")\n",
        "        weather_code = current_weather.get(\"weathercode\")\n",
        "\n",
        "        weather_conditions = {\n",
        "            0: \"ясно\",\n",
        "            1: \"Преимущественно ясно\",\n",
        "            2: \"переменная облачность\",\n",
        "            3: \"пасмурно\",\n",
        "            45: \"туман\",\n",
        "            48: \"отложения инейного тумана\",\n",
        "            51: \"Морось: легкая\",\n",
        "            53: \"Морось: умеренная\",\n",
        "            55: \"Морось: плотная\"\n",
        "        }\n",
        "        # я не буду это все переводить\n",
        "        # 56, 57\tFreezing Drizzle: Light and dense intensity\n",
        "        # 61, 63, 65\tRain: Slight, moderate and heavy intensity\n",
        "        # 66, 67\tFreezing Rain: Light and heavy intensity\n",
        "        # 71, 73, 75\tSnow fall: Slight, moderate, and heavy intensity\n",
        "        # 77\tSnow grains\n",
        "        # 80, 81, 82\tRain showers: Slight, moderate, and violent\n",
        "        # 85, 86\tSnow showers slight and heavy\n",
        "        # 95 *\tThunderstorm: Slight or moderate\n",
        "        # 96, 99 *\tThunderstorm with slight and heavy hail\n",
        "\n",
        "        conditions = weather_conditions.get(weather_code, \"неопределенные условия\")\n",
        "\n",
        "        today_date = datetime.now().strftime(\"%d.%m\")\n",
        "        print(f\"Сегодня ({today_date}) погода {temperature} ◦С, {conditions}\")\n",
        "    else:\n",
        "        print(\"ошибка при получении данных\")\n",
        "\n",
        "cord1 = input()\n",
        "cord2 = input()\n",
        "\n",
        "get_weather(cord1, cord2)"
      ],
      "metadata": {
        "id": "5Mbs40_buVRV",
        "colab": {
          "base_uri": "https://localhost:8080/"
        },
        "outputId": "7d27d3f6-b21d-4f56-9ed5-9150b433ab73"
      },
      "execution_count": null,
      "outputs": [
        {
          "output_type": "stream",
          "name": "stdout",
          "text": [
            "56.50\n",
            "60.35\n",
            "Сегодня (01.11) погода -1.2 ◦С, переменная облачность\n"
          ]
        }
      ]
    },
    {
      "cell_type": "markdown",
      "source": [
        "## Задание 2. HTTP-запросы, ответы и покемоны\n",
        "\n",
        "\n",
        "Создайте код программы, которая будет взаимодействовать с API, со следующим функионалом:\n",
        "\n",
        "1. Используя метод GET, отправьте запрос на endpoint /pokemon, чтобы получить список первых 20 покемонов\n",
        "\n",
        "2. Извлеките имена покемонов из ответа и выведите их списком\n",
        "\n",
        "3. Введите с помощью input() название одного из покемонов\n",
        "\n",
        "\n",
        "```\n",
        "Имя покемона: clefairy\n",
        "```\n",
        "\n",
        "\n",
        "\n",
        "4. Отправьте GET-запрос, чтобы получить полную информацию о выбранном покемоне\n",
        "\n",
        "5. Извлеките и выведите следующие данные о введенном покемоне:\n",
        "\n",
        "     • Имя\n",
        "\n",
        "     • Тип\n",
        "\n",
        "     • Вес\n",
        "\n",
        "     • Рост\n",
        "\n",
        "     • Способности\n",
        "\n",
        "Используйте PokéAPI (https://pokeapi.co/), который предоставляет информацию о покемонах, их характеристиках, типах и другую информацию."
      ],
      "metadata": {
        "id": "oZ1guEbl0PZm"
      }
    },
    {
      "cell_type": "code",
      "source": [
        "import requests\n",
        "\n",
        "\n",
        "def get_20_pokemonov():\n",
        "    url = \"https://pokeapi.co/api/v2/pokemon?limit=20\"\n",
        "    response = requests.get(url)\n",
        "    if response.status_code == 200:\n",
        "        data = response.json()\n",
        "        pokemon_names = []\n",
        "        for i in data['results']:\n",
        "            pokemon_names.append(i['name'])\n",
        "        return pokemon_names\n",
        "    else:\n",
        "        print(\"ошибка\")\n",
        "        return []\n",
        "\n",
        "\n",
        "def get_pokemon_info(pokemon_name):\n",
        "    url = f\"https://pokeapi.co/api/v2/pokemon/{pokemon_name.lower()}\"\n",
        "    response = requests.get(url)\n",
        "    if response.status_code == 200:\n",
        "        data = response.json()\n",
        "        name = data['name']\n",
        "        types = [type_info['type']['name'] for type_info in data['types']]\n",
        "        weight = data['weight']\n",
        "        height = data['height']\n",
        "        abilities = [ability['ability']['name'] for ability in data['abilities']]\n",
        "\n",
        "        print(f\"Имя: {name.capitalize()}\")\n",
        "        print(f\"Тип: {', '.join(types)}\")\n",
        "        print(f\"Вес: {weight / 10} кг\")\n",
        "        print(f\"Рост: {height / 10} м\")\n",
        "        print(f\"Способности: {', '.join(abilities)}\")\n",
        "    else:\n",
        "        print(f\"Покемона с именем '{pokemon_name}' нет и не будет\")\n",
        "\n",
        "\n",
        "pokemon_list = get_20_pokemonov()\n",
        "\n",
        "if pokemon_list:\n",
        "    print(f\"Список первых 20 покемонов\")\n",
        "    print(* pokemon_list)\n",
        "\n",
        "    chosen_pokemon = input(\"\\nИмя покемона: \").strip()\n",
        "    get_pokemon_info(chosen_pokemon)"
      ],
      "metadata": {
        "id": "JkFmivjp25NL",
        "colab": {
          "base_uri": "https://localhost:8080/"
        },
        "outputId": "4ff4529d-5a5d-4669-ca6e-130442bce0b4"
      },
      "execution_count": null,
      "outputs": [
        {
          "output_type": "stream",
          "name": "stdout",
          "text": [
            "Список первых 20 покемонов\n",
            "bulbasaur ivysaur venusaur charmander charmeleon charizard squirtle wartortle blastoise caterpie metapod butterfree weedle kakuna beedrill pidgey pidgeotto pidgeot rattata raticate\n",
            "\n",
            "Имя покемона: clefairy\n",
            "Имя: Clefairy\n",
            "Тип: fairy\n",
            "Вес: 7.5 кг\n",
            "Рост: 0.6 м\n",
            "Способности: cute-charm, magic-guard, friend-guard\n"
          ]
        }
      ]
    },
    {
      "cell_type": "markdown",
      "source": [
        "## Задание 3. HTTP-запросы, ответы и посты\n",
        "\n",
        "Создайте программу, которая будет взаимодействовать с JSONPlaceholder API, реализуя следующие функции:\n",
        "\n",
        "1. Реализуйте функцию, которая выполняет GET-запрос к https://jsonplaceholder.typicode.com/posts и возвращает список постов в формате JSON\n",
        "\n",
        "2. Реализуйте функцию, котороая получает вводимое ID поста, выполняет GET-запрос по ID и возвращает данные поста в формате JSON\n",
        "\n",
        "3. Реализуйте функцию, которая выполняет обработку JSON из пункта 2 и выводит всю важную информацию в консоль"
      ],
      "metadata": {
        "id": "h194KTer1-B3"
      }
    },
    {
      "cell_type": "code",
      "source": [
        "import requests\n",
        "\n",
        "\n",
        "def get_posts():\n",
        "    url = \"https://jsonplaceholder.typicode.com/posts\"\n",
        "    response = requests.get(url)\n",
        "    if response.status_code == 200:\n",
        "        return response.json()\n",
        "    else:\n",
        "        print(\"ошибка при получении постов\")\n",
        "        return []\n",
        "\n",
        "\n",
        "def get_post_id(post_id):\n",
        "    url = f\"https://jsonplaceholder.typicode.com/posts/{post_id}\"\n",
        "    response = requests.get(url)\n",
        "    if response.status_code == 200:\n",
        "        return response.json()\n",
        "    else:\n",
        "        print(f\"пост не найден.\")\n",
        "        return None\n",
        "\n",
        "\n",
        "def post_info(post):\n",
        "    if post:\n",
        "        print(f\"ID пользователя: {post['userId']}\")\n",
        "        print(f\"ID поста: {post['id']}\")\n",
        "        print(f\"заголовок: {post['title']}\")\n",
        "        print(f\"содержимое:\\n{post['body']}\")\n",
        "    else:\n",
        "        print(\"нет данных\")\n",
        "\n",
        "\n",
        "posts = get_posts()\n",
        "\n",
        "post_id = input(\"введите ID нужного поста: \").strip()\n",
        "if post_id.isdigit():\n",
        "    post_data = get_post_id(post_id)\n",
        "    post_info(post_data)\n",
        "else:\n",
        "    print(\"неверный ID\")\n"
      ],
      "metadata": {
        "id": "YANQx4o258Zn",
        "colab": {
          "base_uri": "https://localhost:8080/"
        },
        "outputId": "6ff802bc-5693-4691-949d-e7846be3c397"
      },
      "execution_count": null,
      "outputs": [
        {
          "output_type": "stream",
          "name": "stdout",
          "text": [
            "введите ID нужного поста: 3\n",
            "ID пользователя: 1\n",
            "ID поста: 3\n",
            "заголовок: ea molestias quasi exercitationem repellat qui ipsa sit aut\n",
            "содержимое:\n",
            "et iusto sed quo iure\n",
            "voluptatem occaecati omnis eligendi aut ad\n",
            "voluptatem doloribus vel accusantium quis pariatur\n",
            "molestiae porro eius odio et labore et velit aut\n"
          ]
        }
      ]
    },
    {
      "cell_type": "markdown",
      "source": [
        "## Задание 4. HTTP-запросы, ответы и работа с постами\n",
        "\n",
        "Создайте программу, которая будет взаимодействовать с JSONPlaceholder API (из предыдущего задания), реализуя новые функции:\n",
        "\n",
        "1. Реализуйте функцию, которая принимает заголовок, содержимое и ID пользователя (информация вводится с помощью input()), выполняет POST-запрос для создания нового поста и возвращает информацию о созданном посте в формате JSON\n",
        "\n",
        "\n",
        "```\n",
        "Заголовок: Новый пост\n",
        "Содержимое поста: Тут должно находиться содержимое нового поста...\n",
        "ID пользователя: 10\n",
        "```\n",
        "\n",
        "\n",
        "\n",
        "2. Реализуйте функцию, которая принимает ID поста, новый заголовок и новое содержимое, выполняет PUT-запрос и возвращает обновлённый пост в формате JSON\n",
        "\n",
        "3. Реализуйте функцию, которая принимает ID поста, выполняет DELETE-запрос и возвращает статус-код ответа"
      ],
      "metadata": {
        "id": "4MjiaxDM58ta"
      }
    },
    {
      "cell_type": "code",
      "source": [
        "import requests\n",
        "\n",
        "\n",
        "def create_post(title, body, user_id):\n",
        "    url = \"https://jsonplaceholder.typicode.com/posts\"\n",
        "    post_data = {\n",
        "        \"title\": title,\n",
        "        \"body\": body,\n",
        "        \"userId\": user_id\n",
        "    }\n",
        "    response = requests.post(url, json=post_data)\n",
        "    if response.status_code == 201:\n",
        "        return response.json()\n",
        "    else:\n",
        "        print(\"ошибка при создании поста\")\n",
        "        return None\n",
        "\n",
        "\n",
        "def update_post(post_id, new_title, new_body):\n",
        "    url = f\"https://jsonplaceholder.typicode.com/posts/{post_id}\"\n",
        "    updated_data = {\n",
        "        \"title\": new_title,\n",
        "        \"body\": new_body\n",
        "    }\n",
        "    response = requests.put(url, json=updated_data)\n",
        "    if response.status_code == 200:\n",
        "        return response.json()\n",
        "    else:\n",
        "        print(\"ошибка при обновлении поста\")\n",
        "        return None\n",
        "\n",
        "\n",
        "def delete_post(post_id):\n",
        "    url = f\"https://jsonplaceholder.typicode.com/posts/{post_id}\"\n",
        "    response = requests.delete(url)\n",
        "    return response.status_code\n",
        "\n",
        "\n",
        "title = input(\"Заголовок: \")\n",
        "body = input(\"Содержимое поста: \")\n",
        "user_id = input(\"ID пользователя: \")\n",
        "create_post(title, body, user_id)\n",
        "\n",
        "post_id = input(\"Введите ID поста для обновления: \")\n",
        "new_title = input(\"Новый заголовок: \")\n",
        "new_body = input(\"Новое содержимое поста: \")\n",
        "update_post(post_id, new_title, new_body)\n",
        "\n",
        "delete_post_id = input(\"Введите ID поста для удаления: \")\n",
        "status_code = delete_post(delete_post_id)\n",
        "print(status_code)"
      ],
      "metadata": {
        "id": "jZUIdwq96DNl",
        "colab": {
          "base_uri": "https://localhost:8080/"
        },
        "outputId": "bb178b7a-cb5c-4068-e92b-6522f2505523"
      },
      "execution_count": null,
      "outputs": [
        {
          "output_type": "stream",
          "name": "stdout",
          "text": [
            "Заголовок: 111\n",
            "Содержимое поста: fdzhkgjjjjjjjjjjjjjjjjjjjjjjjjjjj\n",
            "ID пользователя: 10\n",
            "Введите ID поста для обновления: 100\n",
            "Новый заголовок: 111\n",
            "Новое содержимое поста: 1111111111111111111111111111111111111111111111111111\n",
            "Введите ID поста для удаления: 100\n",
            "200\n"
          ]
        }
      ]
    },
    {
      "cell_type": "markdown",
      "source": [
        "## Задание 5. HTTP-запросы, ответы и пёсики\n",
        "\n",
        "Создайте программу, которая будет взаимодействовать с Dog API, которая позволит получать список пород собак, вводить несколько пород и получать их фотогрфии.\n",
        "\n",
        "Этапы:\n",
        "\n",
        "1. Создайте функцию, которая использует метод GET и возвращает список всех пород собак в формате нумерованного списка\n",
        "\n",
        "2. Реализуйте возможность ввода нескольких пород собак через запятую\n",
        "\n",
        "\n",
        "```\n",
        "african, chow, dingo\n",
        "```\n",
        "\n",
        "\n",
        "\n",
        "3. Создание функции, которая реализует запрос, возвращает и выводит изображениия собак, породы которых были введены до этого\n",
        "\n",
        "\n",
        "Используйте Dog API (https://dog.ceo/dog-api/), который предоставляет информацию о породах собак и их изображения.\n"
      ],
      "metadata": {
        "id": "y0EyPsFQ6mSZ"
      }
    },
    {
      "cell_type": "code",
      "source": [
        "import requests\n",
        "from PIL import Image\n",
        "from IPython.display import display\n",
        "import io\n",
        "\n",
        "\n",
        "def get_psina():\n",
        "    url = \"https://dog.ceo/api/breeds/list/all\"\n",
        "    response = requests.get(url)\n",
        "    if response.status_code == 200:\n",
        "        psiny = response.json()[\"message\"]\n",
        "        psiny_list = list(psiny.keys())\n",
        "        numerated_psiny_list = {}\n",
        "        for i, psina in enumerate(psiny_list, 1):\n",
        "            numerated_psiny_list[i] = psina\n",
        "        print(numerated_psiny_list)\n",
        "        return psiny_list\n",
        "    else:\n",
        "        print(\"ошибка при получении списка пород\")\n",
        "        return []\n",
        "\n",
        "\n",
        "def get_psina_images(psiny):\n",
        "    for psina in psiny:\n",
        "        url = f\"https://dog.ceo/api/breed/{psina}/images/random\"\n",
        "        response = requests.get(url)\n",
        "        if response.status_code == 200:\n",
        "            image_url = response.json()['message']\n",
        "            print(f\"изображение породы {psina}: {image_url}\")\n",
        "            show_image(image_url)\n",
        "        else:\n",
        "            print(\"оно еще не родилось\")\n",
        "\n",
        "\n",
        "def show_image(url):\n",
        "    response = requests.get(url)\n",
        "    if response.status_code == 200:\n",
        "        img = Image.open(io.BytesIO(response.content))\n",
        "        display(img)\n",
        "    else:\n",
        "        print(\"ошибка\")\n",
        "\n",
        "\n",
        "psiny_list = get_psina()\n",
        "if psiny_list:\n",
        "    sobaka_input = input(\"Введите породы собак через запятую: \")\n",
        "    selected_sobakens = []\n",
        "    for sobaka in sobaka_input.split(\",\"):\n",
        "        if sobaka.strip().lower() in psiny_list:\n",
        "            selected_sobakens.append(sobaka.strip().lower())\n",
        "    if selected_sobakens:\n",
        "        get_psina_images(selected_sobakens)\n",
        "    else:\n",
        "        print(\"нет собак\")"
      ],
      "metadata": {
        "id": "CVJx0B9E8au1",
        "colab": {
          "base_uri": "https://localhost:8080/"
        },
        "outputId": "13201bf7-e8df-4ee6-8eff-a80fe43c5547"
      },
      "execution_count": null,
      "outputs": [
        {
          "output_type": "stream",
          "name": "stdout",
          "text": [
            "{1: 'affenpinscher', 2: 'african', 3: 'airedale', 4: 'akita', 5: 'appenzeller', 6: 'australian', 7: 'bakharwal', 8: 'basenji', 9: 'beagle', 10: 'bluetick', 11: 'borzoi', 12: 'bouvier', 13: 'boxer', 14: 'brabancon', 15: 'briard', 16: 'buhund', 17: 'bulldog', 18: 'bullterrier', 19: 'cattledog', 20: 'cavapoo', 21: 'chihuahua', 22: 'chippiparai', 23: 'chow', 24: 'clumber', 25: 'cockapoo', 26: 'collie', 27: 'coonhound', 28: 'corgi', 29: 'cotondetulear', 30: 'dachshund', 31: 'dalmatian', 32: 'dane', 33: 'danish', 34: 'deerhound', 35: 'dhole', 36: 'dingo', 37: 'doberman', 38: 'elkhound', 39: 'entlebucher', 40: 'eskimo', 41: 'finnish', 42: 'frise', 43: 'gaddi', 44: 'germanshepherd', 45: 'greyhound', 46: 'groenendael', 47: 'havanese', 48: 'hound', 49: 'husky', 50: 'keeshond', 51: 'kelpie', 52: 'kombai', 53: 'komondor', 54: 'kuvasz', 55: 'labradoodle', 56: 'labrador', 57: 'leonberg', 58: 'lhasa', 59: 'malamute', 60: 'malinois', 61: 'maltese', 62: 'mastiff', 63: 'mexicanhairless', 64: 'mix', 65: 'mountain', 66: 'mudhol', 67: 'newfoundland', 68: 'otterhound', 69: 'ovcharka', 70: 'papillon', 71: 'pariah', 72: 'pekinese', 73: 'pembroke', 74: 'pinscher', 75: 'pitbull', 76: 'pointer', 77: 'pomeranian', 78: 'poodle', 79: 'pug', 80: 'puggle', 81: 'pyrenees', 82: 'rajapalayam', 83: 'redbone', 84: 'retriever', 85: 'ridgeback', 86: 'rottweiler', 87: 'saluki', 88: 'samoyed', 89: 'schipperke', 90: 'schnauzer', 91: 'segugio', 92: 'setter', 93: 'sharpei', 94: 'sheepdog', 95: 'shiba', 96: 'shihtzu', 97: 'spaniel', 98: 'spitz', 99: 'springer', 100: 'stbernard', 101: 'terrier', 102: 'tervuren', 103: 'vizsla', 104: 'waterdog', 105: 'weimaraner', 106: 'whippet', 107: 'wolfhound'}\n",
            "Введите породы собак через запятую: appenzeller,appenzeller\n",
            "изображение породы appenzeller: https://images.dog.ceo/breeds/appenzeller/n02107908_691.jpg\n",
            "изображение породы appenzeller: https://images.dog.ceo/breeds/appenzeller/n02107908_2858.jpg\n"
          ]
        }
      ]
    }
  ]
}