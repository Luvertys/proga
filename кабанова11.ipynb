{
  "nbformat": 4,
  "nbformat_minor": 0,
  "metadata": {
    "colab": {
      "provenance": []
    },
    "kernelspec": {
      "name": "python3",
      "display_name": "Python 3"
    },
    "language_info": {
      "name": "python"
    }
  },
  "cells": [
    {
      "cell_type": "markdown",
      "source": [
        "**ФИО:**"
      ],
      "metadata": {
        "id": "GEsFKJm-ABFp"
      }
    },
    {
      "cell_type": "code",
      "execution_count": null,
      "metadata": {
        "id": "wZMLYG_G_-19"
      },
      "outputs": [],
      "source": [
        "кабанова валерия евгеньевна"
      ]
    },
    {
      "cell_type": "markdown",
      "source": [
        "# Задание 1"
      ],
      "metadata": {
        "id": "H4DrYnJjADuZ"
      }
    },
    {
      "cell_type": "markdown",
      "source": [
        "**Описание:** Создайте иерархию классов для разных типов сотрудников в компании. Реализуйте родительский класс Employee и дочерние классы Manager и Developer. Каждый класс должен иметь метод для расчета зарплаты на основе различных критериев класса.\n",
        "\n",
        "\n",
        "Отрабатываемый принцип: Наследование\n",
        "\n"
      ],
      "metadata": {
        "id": "C17FWep-AF4a"
      }
    },
    {
      "cell_type": "code",
      "source": [
        "class Employee:\n",
        "    def __init__(self, name, oklad):\n",
        "        self.name = name\n",
        "        self.oklad = oklad\n",
        "\n",
        "    def calculate_zp(self):\n",
        "        return self.oklad\n",
        "\n",
        "\n",
        "class Manager(Employee):\n",
        "    def __init__(self, name, oklad, premiya):\n",
        "        super().__init__(name, oklad)\n",
        "        self.premiya = premiya\n",
        "\n",
        "    def calculate_zp(self):\n",
        "        return self.oklad + (self.oklad + self.premiya)\n",
        "\n",
        "\n",
        "class Developer(Employee):\n",
        "    def __init__(self, name, oklad, premiya2):\n",
        "        super().__init__(name, oklad)\n",
        "        self.premiya2 = premiya2\n",
        "\n",
        "    def calculate_zp(self):\n",
        "        return self.oklad + (self.oklad + self.premiya2)\n",
        "\n",
        "\n",
        "emp1 = Manager(\"dyadya borya\", 500000, 20000)"
      ],
      "metadata": {
        "id": "aexGXzqCAFH7"
      },
      "execution_count": null,
      "outputs": []
    },
    {
      "cell_type": "markdown",
      "source": [
        "# Задание 2"
      ],
      "metadata": {
        "id": "ERAi0TG5BI6v"
      }
    },
    {
      "cell_type": "markdown",
      "source": [
        "**Описание:** Создайте иерархию классов для различных типов транспортных средств (Необходим один родительский класс и 3 дочерних). Реализуйте метод, который позволяет каждому транспортному средству возвращать собственное описание (Метод в каждом классе должен иметь одинаковое название). Продемонстрируйте вызов данного метода для каждого транспортного средства.\n",
        "\n",
        "\n",
        "Отрабатываемый принцип: Полиморфизм"
      ],
      "metadata": {
        "id": "sJ3k7ZcgBK87"
      }
    },
    {
      "cell_type": "code",
      "source": [
        "class Dve_nogi:\n",
        "    def __init__(self, name, cnt_wheels):\n",
        "        self.name = name\n",
        "        self.cnt_wheels = cnt_wheels\n",
        "\n",
        "    def get_description(self):\n",
        "        return f\"Транспорт: {self.name}, количество колес: {self.cnt_wheels}\"\n",
        "\n",
        "\n",
        "class Bike(Dve_nogi):\n",
        "    def __init__(self, name, cnt_wheels):\n",
        "        super().__init__(name, cnt_wheels)\n",
        "\n",
        "    def get_description(self):\n",
        "        return f\"Транспорт: {self.name}, количество колес: {self.cnt_wheels}\"\n",
        "\n",
        "\n",
        "class Car(Dve_nogi):\n",
        "    def __init__(self, name, cnt_wheels):\n",
        "        super().__init__(name, cnt_wheels)\n",
        "\n",
        "    def get_description(self):\n",
        "        return f\"Транспорт: {self.name}, количество колес: {self.cnt_wheels}\"\n",
        "\n",
        "\n",
        "class Plane(Dve_nogi):\n",
        "    def __init__(self, name, cnt_wheels):\n",
        "        super().__init__(name, cnt_wheels)\n",
        "\n",
        "    def get_description(self):\n",
        "        return f\"Транспорт: {self.name}, количество колес: {self.cnt_wheels}\"\n",
        "\n",
        "\n",
        "tr1 = Dve_nogi(\"dyadya borya\", 0)\n",
        "tr2 = Bike(\"Bike\", 2)\n",
        "tr3 = Car(\"Car\", 4)\n",
        "tr4 = Plane(\"Plane\", 3)\n",
        "\n",
        "print(f\"{tr1.get_description()}\\n{tr2.get_description()}\\n{tr3.get_description()}\\n{tr4.get_description()}\")\n"
      ],
      "metadata": {
        "id": "WOFOZQmDBKf4",
        "colab": {
          "base_uri": "https://localhost:8080/"
        },
        "outputId": "6b529391-2183-4401-fe24-e059f5f8aeda"
      },
      "execution_count": null,
      "outputs": [
        {
          "output_type": "stream",
          "name": "stdout",
          "text": [
            "Транспорт: dyadya borya, количество колес: 0\n",
            "Транспорт: Bike, количество колес: 2\n",
            "Транспорт: Car, количество колес: 4\n",
            "Транспорт: Plane, количество колес: 3\n"
          ]
        }
      ]
    },
    {
      "cell_type": "markdown",
      "source": [
        "# Задание 3"
      ],
      "metadata": {
        "id": "7E_SJXMJBvD4"
      }
    },
    {
      "cell_type": "markdown",
      "source": [
        "Онлайн-магазин:\n",
        "- Создайте модель для онлайн-магазина с классами Product, Order, Customer, и ShoppingCart.\n",
        "- Product включает информацию о цене, наличии на складе и категории товара.\n",
        "Order обрабатывает процесс покупки, включая расчет цены с учетом скидок и налогов.\n",
        "- Customer управляет информацией о пользователе и его истории заказов.\n",
        "- ShoppingCart позволяет добавлять, удалять и обновлять количество товаров перед оформлением заказа.\n"
      ],
      "metadata": {
        "id": "dd1mwKj_BxHa"
      }
    },
    {
      "cell_type": "code",
      "source": [
        "class Product:\n",
        "    def __init__(self, name, price, stock, category):\n",
        "        self.name = name\n",
        "        self.price = price\n",
        "        self.stock = stock\n",
        "        self.category = category\n",
        "\n",
        "    def update_stock(self, quantity):\n",
        "        if quantity <= self.stock:\n",
        "            self.stock -= quantity\n",
        "            return True\n",
        "        else:\n",
        "            return False\n",
        "\n",
        "    def __str__(self):\n",
        "        return f\"товар: {self.name}, цена: {self.price}, в наличии: {self.stock}, категория: {self.category}\"\n",
        "\n",
        "\n",
        "class Customer:\n",
        "    def __init__(self, name, id):\n",
        "        self.name = name\n",
        "        self.id = id\n",
        "        self.order_history = []\n",
        "\n",
        "    def add_order(self, order):\n",
        "        self.order_history.append(order)\n",
        "\n",
        "    def __str__(self):\n",
        "        return f\"клиент: {self.name}, id: {self.id}\"\n",
        "\n",
        "\n",
        "class ShoppingCart:\n",
        "    def __init__(self):\n",
        "        self.cart_items = {}\n",
        "\n",
        "    def add_item(self, product, quantity):\n",
        "        if product.stock < quantity:\n",
        "            print(f\"нет на складе\")\n",
        "            return False\n",
        "\n",
        "        if product in self.cart_items:\n",
        "            self.cart_items[product] += quantity\n",
        "        else:\n",
        "            self.cart_items[product] = quantity\n",
        "        return True\n",
        "\n",
        "    def remove_item(self, product):\n",
        "        if product in self.cart_items:\n",
        "            del self.cart_items[product]\n",
        "            return True\n",
        "        else:\n",
        "            print(f\"товар не найден\")\n",
        "            return False\n",
        "\n",
        "    def update_quantity(self, product, quantity):\n",
        "        if product in self.cart_items:\n",
        "            if product.stock >= quantity:\n",
        "                self.cart_items[product] = quantity\n",
        "            else:\n",
        "                print(f\"недостаточно товара\")\n",
        "        else:\n",
        "            print(f\"товар не найден\")\n",
        "\n",
        "    def calculate_total(self):\n",
        "        return sum(product.price * quantity for product, quantity in self.cart_items.items())\n",
        "\n",
        "    def __str__(self):\n",
        "        items = [f\"{product.name} x{quantity}\" for product, quantity in self.cart_items.items()]\n",
        "        return \"корзина: \" + \", \".join(items) if items else \"пусто\"\n",
        "\n",
        "\n",
        "class Order:\n",
        "    def __init__(self, customer, cart, discount=0, tax_rate=0):\n",
        "        self.customer = customer\n",
        "        self.cart = cart\n",
        "        self.discount = discount\n",
        "        self.tax_rate = tax_rate\n",
        "        self.total = 0\n",
        "        self.items = []\n",
        "\n",
        "    def process_order(self):\n",
        "        self.total = self.cart.calculate_total()\n",
        "        self.total -= self.total * self.discount\n",
        "        self.total += self.total * self.tax_rate\n",
        "\n",
        "        for product, quantity in self.cart.cart_items.items():\n",
        "            if product.update_stock(quantity):\n",
        "                self.items.append((product, quantity))\n",
        "            else:\n",
        "                print(f\"эрор\")\n",
        "\n",
        "        self.customer.add_order(self)\n",
        "\n",
        "    def __str__(self):\n",
        "        items = [f\"{product.name} x{quantity}\" for product, quantity in self.items]\n",
        "        return f\"заказ для {self.customer.name}: {', '.join(items)}, стоимость: {self.total:.2f}\"\n",
        "\n",
        "\n",
        "product1 = Product(\"стул\", 10, 5, \"мебель\")\n",
        "customer = Customer(\"дядя боря\", \"1\")\n",
        "cart = ShoppingCart()\n",
        "cart.add_item(product1, 1)\n",
        "order = Order(customer, cart, discount=0)\n",
        "order.process_order()\n",
        "\n",
        "print(customer.order_history[0])"
      ],
      "metadata": {
        "id": "wkCcv_K-Bwdv",
        "colab": {
          "base_uri": "https://localhost:8080/"
        },
        "outputId": "414aa257-2b40-4bb2-e12d-5d55e8c0fb92"
      },
      "execution_count": null,
      "outputs": [
        {
          "output_type": "stream",
          "name": "stdout",
          "text": [
            "заказ для дядя боря: стул x1, стоимость: 10.00\n"
          ]
        }
      ]
    },
    {
      "cell_type": "markdown",
      "source": [
        "# Задание 4"
      ],
      "metadata": {
        "id": "ih7iPlYfB7lL"
      }
    },
    {
      "cell_type": "markdown",
      "source": [
        "Симулятор космического корабля:\n",
        "- Создайте симулятор управления космическим кораблем с классами SpaceShip, CrewMember, и Mission.\n",
        "- SpaceShip имеет атрибуты для управления топливом, состоянием корпуса, и текущей скоростью.\n",
        "- CrewMember контролирует здоровье, навыки, и роли в команде (например, пилот, инженер).\n",
        "- Mission определяет цели, ресурсы, и возможные события (например, аварии, встречи с астероидами)."
      ],
      "metadata": {
        "id": "zLwqVCbpCBvc"
      }
    },
    {
      "cell_type": "code",
      "source": [
        "import random\n",
        "\n",
        "\n",
        "class SpaceShip:\n",
        "    def __init__(self, name, fuel, korpus):\n",
        "        self.name = name\n",
        "        self.fuel = fuel\n",
        "        self.korpus = korpus\n",
        "        self.speed = 0\n",
        "\n",
        "    def accelerate(self, amount):\n",
        "        if self.fuel >= amount:\n",
        "            self.speed += amount\n",
        "            self.fuel -= amount\n",
        "            print(f\"{self.name} ускорился. Текущая скорость: {self.speed} остаток топлива: {self.fuel}\")\n",
        "        else:\n",
        "            print(\"недостаточно топлива\")\n",
        "\n",
        "    def take_damage(self, amount):\n",
        "        self.korpus -= amount\n",
        "        print(f\"{self.name} получил повреждение, состояние корпуса: {self.korpus}\")\n",
        "        if self.korpus <= 0:\n",
        "            print(\"гг\")\n",
        "\n",
        "    def repair(self, amount):\n",
        "        self.korpus += amount\n",
        "        print(f\"корпус отремонтирован, текущее состояние: {self.korpus}\")\n",
        "\n",
        "    def refuel(self, amount):\n",
        "        self.fuel += amount\n",
        "        print(f\"{self.name} заправлен, текущее топливо: {self.fuel}\")\n",
        "\n",
        "    def __str__(self):\n",
        "        return f\"{self.name}: Топливо {self.fuel}, Корпус {self.korpus}, Скорость {self.speed}\"\n",
        "\n",
        "\n",
        "class CrewMember:\n",
        "    def __init__(self, name, role, health, skills):\n",
        "        self.name = name\n",
        "        self.role = role\n",
        "        self.health = health\n",
        "        self.skills = skills\n",
        "\n",
        "    def take_damage(self, amount):\n",
        "        self.health -= amount\n",
        "        print(f\"{self.name} получил урон, текущее здоровье: {self.health}\")\n",
        "        if self.health <= 0:\n",
        "            print(f\"{self.name} навестил бога\")\n",
        "\n",
        "    def heal(self, amount):\n",
        "        self.health += amount\n",
        "        print(f\"{self.name} похилился, текущее здоровье: {self.health}\")\n",
        "\n",
        "    def __str__(self):\n",
        "        return f\"{self.name} ({self.role}): Здоровье {self.health}, Навык {self.skills}\"\n",
        "\n",
        "\n",
        "class Mission:\n",
        "    def __init__(self, name, spaceship, crew):\n",
        "        self.name = name\n",
        "        self.spaceship = spaceship\n",
        "        self.crew = crew\n",
        "        self.is_active = True\n",
        "\n",
        "    def event(self):\n",
        "        print(\"событие: свиданка с астероидом\")\n",
        "        self.spaceship.take_damage(10)\n",
        "        random.choice(self.crew).take_damage(10)\n",
        "\n",
        "    def complete_mission(self):\n",
        "        print(f\"миссия '{self.name}' завершена\")\n",
        "        self.is_active = False\n",
        "\n",
        "    def __str__(self):\n",
        "        crew_status = \"\\n\".join([str(member) for member in self.crew])\n",
        "        return f\"Миссия: {self.name}\\nКорабль: {self.spaceship}\\nЭкипаж:\\n{crew_status}\"\n",
        "\n",
        "\n",
        "def run():\n",
        "    spaceship = SpaceShip(name=\"spaceship\", fuel=100, korpus=100)\n",
        "\n",
        "    crew = [\n",
        "        CrewMember(name=\"дядя\", role=\"пилот\", health=100, skills=\"управление\"),\n",
        "        CrewMember(name=\"боря\", role=\"инженер\", health=100, skills=\"ремонт\"),\n",
        "    ]\n",
        "\n",
        "    mission = Mission(name=\"поиск смерти\", spaceship=spaceship, crew=crew)\n",
        "\n",
        "    print(mission)\n",
        "    mission.event()\n",
        "    spaceship.accelerate(20)\n",
        "    crew[0].heal(10)\n",
        "    spaceship.refuel(50)\n",
        "    mission.complete_mission()\n",
        "\n",
        "run()"
      ],
      "metadata": {
        "id": "4NyrOOy8B9ED",
        "colab": {
          "base_uri": "https://localhost:8080/"
        },
        "outputId": "4e5445ec-fa9c-4ec1-d4f0-bc54dcf9c6b8"
      },
      "execution_count": null,
      "outputs": [
        {
          "output_type": "stream",
          "name": "stdout",
          "text": [
            "Миссия: поиск смерти\n",
            "Корабль: spaceship: Топливо 100, Корпус 100, Скорость 0\n",
            "Экипаж:\n",
            "дядя (пилот): Здоровье 100, Навык управление\n",
            "боря (инженер): Здоровье 100, Навык ремонт\n",
            "событие: свиданка с астероидом\n",
            "spaceship получил повреждение, состояние корпуса: 90\n",
            "дядя получил урон, текущее здоровье: 90\n",
            "spaceship ускорился. Текущая скорость: 20 остаток топлива: 80\n",
            "дядя похилился, текущее здоровье: 100\n",
            "spaceship заправлен, текущее топливо: 130\n",
            "миссия 'поиск смерти' завершена\n"
          ]
        }
      ]
    },
    {
      "cell_type": "markdown",
      "source": [
        "# Дополнительно:"
      ],
      "metadata": {
        "id": "F7mRVsZjCXk0"
      }
    },
    {
      "cell_type": "markdown",
      "source": [
        "**Описание:** создайте консольную версию игры крестики-нолики, используя классы"
      ],
      "metadata": {
        "id": "X4Lkf86UCc1h"
      }
    },
    {
      "cell_type": "code",
      "source": [
        "import random\n",
        "\n",
        "class Game:\n",
        "    def __init__(self):\n",
        "        self.board = [[\" \" for _ in range(3)] for _ in range(3)]\n",
        "        self.current_player = \"X\"\n",
        "\n",
        "    def display_board(self):\n",
        "        for row in self.board:\n",
        "            print(\" | \".join(row))\n",
        "\n",
        "    def is_valid_move(self, row, col):\n",
        "        return 0 <= row < 3 and 0 <= col < 3 and self.board[row][col] == \" \"\n",
        "\n",
        "    def make_move(self, row, col):\n",
        "        if self.is_valid_move(row, col):\n",
        "            self.board[row][col] = self.current_player\n",
        "            return True\n",
        "        else:\n",
        "            print(\"Некорректный ход\")\n",
        "            return False\n",
        "\n",
        "    def computer_move(self):\n",
        "        available_moves = [(row, col) for row in range(3) for col in range(3) if self.board[row][col] == \" \"]\n",
        "        if available_moves:\n",
        "            row, col = random.choice(available_moves)\n",
        "            self.make_move(row, col)\n",
        "            print(f\"\\nход компа: {row+1}, {col+1}\\n\")\n",
        "\n",
        "    def check_winner(self):\n",
        "        for i in range(3):\n",
        "            if all(self.board[i][j] == self.current_player for j in range(3)) or \\\n",
        "               all(self.board[j][i] == self.current_player for j in range(3)):\n",
        "                return True\n",
        "\n",
        "        if all(self.board[i][i] == self.current_player for i in range(3)) or \\\n",
        "           all(self.board[i][2 - i] == self.current_player for i in range(3)):\n",
        "            return True\n",
        "\n",
        "        return False\n",
        "\n",
        "    def is_draw(self):\n",
        "        return all(self.board[row][col] != \" \" for row in range(3) for col in range(3))\n",
        "\n",
        "    def switch_player(self):\n",
        "        self.current_player = \"O\" if self.current_player == \"X\" else \"X\"\n",
        "\n",
        "    def play(self):\n",
        "        while True:\n",
        "            self.display_board()\n",
        "            if self.current_player == \"X\":\n",
        "                print(f\"\\nваш ход\")\n",
        "                try:\n",
        "                    row, col = map(int, input(\"строка столбец через пробел: \").split())\n",
        "                    row -= 1\n",
        "                    col -= 1\n",
        "                except KeyboardInterrupt:\n",
        "                    break\n",
        "                except ValueError:\n",
        "                    print(\"строка столбец через пробел: \")\n",
        "                    continue\n",
        "\n",
        "                if not self.make_move(row, col):\n",
        "                    continue\n",
        "            else:\n",
        "                self.computer_move()\n",
        "\n",
        "            if self.check_winner():\n",
        "                self.display_board()\n",
        "                if self.current_player == \"X\":\n",
        "                    print(\"победа\")\n",
        "                else:\n",
        "                    print(\"слив\")\n",
        "                break\n",
        "            elif self.is_draw():\n",
        "                self.display_board()\n",
        "                print(\"ничья\")\n",
        "                break\n",
        "\n",
        "            self.switch_player()\n",
        "\n",
        "game = Game()\n",
        "game.play()"
      ],
      "metadata": {
        "id": "x9OxpNsyCcUo",
        "colab": {
          "base_uri": "https://localhost:8080/"
        },
        "outputId": "00432d50-07e1-4447-ea05-5efa01d03ad9"
      },
      "execution_count": null,
      "outputs": [
        {
          "name": "stdout",
          "output_type": "stream",
          "text": [
            "  |   |  \n",
            "  |   |  \n",
            "  |   |  \n",
            "\n",
            "ваш ход\n",
            "строка столбец через пробел: `\n"
          ]
        }
      ]
    }
  ]
}