{
  "nbformat": 4,
  "nbformat_minor": 0,
  "metadata": {
    "colab": {
      "provenance": []
    },
    "kernelspec": {
      "name": "python3",
      "display_name": "Python 3"
    },
    "language_info": {
      "name": "python"
    }
  },
  "cells": [
    {
      "cell_type": "markdown",
      "source": [
        "ФИО:"
      ],
      "metadata": {
        "id": "fLDS5f_mCnPa"
      }
    },
    {
      "cell_type": "markdown",
      "source": [
        "# Задание 1"
      ],
      "metadata": {
        "id": "8XGka5GtEBK1"
      }
    },
    {
      "cell_type": "markdown",
      "source": [
        "Задание:\n",
        "\n",
        "Создайте класс с именем Rectangle который имеет:\n",
        "- Атрибуты ширины и высоты.\n",
        "- Метод расчета площади.\n",
        "- Метод расчета периметра.\n",
        "- Метод отображения размеров прямоугольника.\n",
        "\n",
        "Создайте экземпляр класса Rectangleи продемонстрируйте его функциональность."
      ],
      "metadata": {
        "id": "jQ4qqd8nEZBY"
      }
    },
    {
      "cell_type": "code",
      "source": [
        "class Rectangle:\n",
        "    def __init__(self, w, h):\n",
        "        self.width = w\n",
        "        self.height = h\n",
        "\n",
        "    def area(self):\n",
        "        return self.width * self.height\n",
        "\n",
        "    def perimeter(self):\n",
        "        return 2 * (self.width + self.height)\n",
        "\n",
        "    def show_params(self):\n",
        "        print(f\"ширина: {self.width}\\nвысота: {self.height}\\nплощадь: {rect.area()}\\nпериметр: {rect.perimeter()}\")\n",
        "\n",
        "\n",
        "rect = Rectangle(4, 5)\n",
        "\n",
        "rect.show_params()"
      ],
      "metadata": {
        "id": "dG6uNPqTEAvt",
        "colab": {
          "base_uri": "https://localhost:8080/"
        },
        "outputId": "910bdf8d-c80c-4b9d-feaf-cd3c2e415ac2"
      },
      "execution_count": null,
      "outputs": [
        {
          "output_type": "stream",
          "name": "stdout",
          "text": [
            "ширина: 4\n",
            "высота: 5\n",
            "площадь: 20\n",
            "периметр: 18\n"
          ]
        }
      ]
    },
    {
      "cell_type": "markdown",
      "source": [
        "# Задание 2"
      ],
      "metadata": {
        "id": "0ct1u6lqE73j"
      }
    },
    {
      "cell_type": "markdown",
      "source": [
        "Задание: Создайте мини версию банковской системы:\n",
        "\n",
        "\n",
        "Инструкции:\n",
        "\n",
        "1. Создайте класс BankAccountсо следующими атрибутами:\n",
        "    - account_holder -  владелец счета\n",
        "    - balance - баланс счета\n",
        "\n",
        "2. Реализуйте следующие методы:\n",
        "    - Метод для инициализации владельца счета: имя владельца счета и установите начальный баланс на 0.\n",
        "    - deposit(amount): Добавьте указанную сумму к балансу.\n",
        "    - withdraw(amount): Вычесть указанную сумму из баланса, если средств достаточно; в противном случае вывести предупреждение.\n",
        "    - get_balance(): Возврат текущего баланса.\n",
        "\n",
        "\n",
        "Создайте объект класса и продемонстрируйте его возможности"
      ],
      "metadata": {
        "id": "FOpIpcLxE-WK"
      }
    },
    {
      "cell_type": "code",
      "source": [
        "class BankAccount:\n",
        "    def __init__(self, account_holder):\n",
        "        self.account_holder = account_holder\n",
        "        self.balance = 0\n",
        "\n",
        "    def deposit(self, amount):\n",
        "        self.balance += amount\n",
        "        print(f\"пополнение на сумму {amount}\")\n",
        "\n",
        "    def withdraw(self, amount):\n",
        "        if amount > self.balance:\n",
        "            print(f\"недостаточно средств\")\n",
        "        else:\n",
        "            self.balance -= amount\n",
        "            print(f\"снятие {amount}\")\n",
        "\n",
        "    def get_balance(self):\n",
        "        return self.balance\n",
        "\n",
        "\n",
        "ac = BankAccount(\"Я\")\n",
        "\n",
        "ac.deposit(11)\n",
        "ac.withdraw(1)\n",
        "ac.withdraw(111)\n",
        "\n",
        "print(f\"баланс: {ac.get_balance()}\")\n"
      ],
      "metadata": {
        "id": "WWXNIUrCE99W",
        "colab": {
          "base_uri": "https://localhost:8080/"
        },
        "outputId": "297f41ec-8846-4440-f7ff-de3b4264efed"
      },
      "execution_count": null,
      "outputs": [
        {
          "output_type": "stream",
          "name": "stdout",
          "text": [
            "пополнение на сумму 11\n",
            "снятие 1\n",
            "недостаточно средств\n",
            "баланс: 10\n"
          ]
        }
      ]
    },
    {
      "cell_type": "markdown",
      "source": [
        "# Задание 3"
      ],
      "metadata": {
        "id": "C5DX5Uf2FfP6"
      }
    },
    {
      "cell_type": "markdown",
      "source": [
        "Возьмите код и задание (Рыцарь и дракон) из предыдущей практики и реализуйте его с применением классов"
      ],
      "metadata": {
        "id": "0cR-MYepFgz6"
      }
    },
    {
      "cell_type": "code",
      "source": [
        "import random\n",
        "\n",
        "\n",
        "class Persone:\n",
        "    def __init__(self, init_type):\n",
        "        if init_type == \"knight\":\n",
        "            self.create_knight()\n",
        "        elif init_type == \"dragon\":\n",
        "            self.create_dragon()\n",
        "\n",
        "    def create_knight(self):\n",
        "      print(\"создание рыцаря\")\n",
        "      self.name = input(\"имя: \")\n",
        "      self.armor = input(\"доспехи: \")\n",
        "      self.weapon = input(\"оружие (огнестрел, катана, лк препода урфу): \")\n",
        "      self.hp = int(input(\"хп: \"))\n",
        "      self.damage_range = (10, 20)\n",
        "      if self.weapon == \"огнестрел\":\n",
        "          self.damage_range = (15, 25)\n",
        "      elif self.weapon == \"катана\":\n",
        "          self.damage_range = (30, 45)\n",
        "      elif self.weapon == \"лк препода урфу\":\n",
        "          self.damage_range = (50, 75)\n",
        "      if self.armor == \"ssshhhiiittt\":\n",
        "          self.hp += 100\n",
        "\n",
        "\n",
        "    def create_dragon(self):\n",
        "      print(\"\\nсоздание дракона\")\n",
        "      self.name = input(\"имя: \") + ' Павлович'\n",
        "      self.hp = int(input(\"хп: \"))\n",
        "      self.damage_range = (15, 30)\n",
        "\n",
        "\n",
        "def attack(attacker, defender):\n",
        "    damage = random.randint(*attacker.damage_range)\n",
        "    defender.hp -= damage\n",
        "    return damage\n",
        "\n",
        "\n",
        "def fight(knight, dragon):\n",
        "    while knight.hp > 0 and dragon.hp > 0:\n",
        "        print(f\"\\nудар рыцаря {knight.name}!\")\n",
        "        damage = attack(knight, dragon)\n",
        "        print(f\"{knight.name} наносит {damage} урона\")\n",
        "        print(f\"хп дракона {dragon.name}: {dragon.hp}\")\n",
        "\n",
        "        if dragon.hp <= 0:\n",
        "            print(f\"\\n{dragon.name} побежден!\")\n",
        "            break\n",
        "\n",
        "\n",
        "        print(f\"\\nудар дракона {dragon.name}!\")\n",
        "        damage = attack(dragon, knight)\n",
        "        print(f\"{dragon.name} наносит {damage} урона\")\n",
        "        print(f\"хп рыцаря {knight.name}: {knight.hp}\")\n",
        "\n",
        "        if knight.hp <= 0:\n",
        "            print(f\"\\n{knight.name} сдох, что-бы продолжить игру скиньте автору сто рублей на тинькоф\")\n",
        "            break\n",
        "\n",
        "\n",
        "\n",
        "def run():\n",
        "    exit = input(\"начать игру?(да) \\n\")\n",
        "    if exit.lower() == \"да\":\n",
        "        knight = Persone(\"knight\")\n",
        "        dragon = Persone(\"dragon\")\n",
        "        print(f\"бедолаге по имени {knight.name} исполнилось 18 лет и родители прогнали его из дома со словами\"\n",
        "              f\" не возвращайся без 100 баллов брс которые охраняет страшный дракон {dragon.name}\")\n",
        "        print(\"что делать?\")\n",
        "        print(\"1. на языке боли объяснить дракону что баллы теперь мои\")\n",
        "        print(\"2. пойти плакать\")\n",
        "        choice = input()\n",
        "        if choice == \"1\":\n",
        "            fight(knight, dragon)\n",
        "        elif choice == \"2\":\n",
        "            print(\"вы умерли от депрессии\")\n",
        "        else:\n",
        "            print(\"цифра эрор\")\n",
        "\n",
        "\n",
        "run()"
      ],
      "metadata": {
        "id": "Oz9BZbhAFwua",
        "colab": {
          "base_uri": "https://localhost:8080/"
        },
        "outputId": "5b9b2d2e-56b6-475a-fef2-a994c8dcca21"
      },
      "execution_count": null,
      "outputs": [
        {
          "name": "stdout",
          "output_type": "stream",
          "text": [
            "начать игру?(да) \n",
            ".\n"
          ]
        }
      ]
    },
    {
      "cell_type": "markdown",
      "source": [
        "# Дополнительное задание\n"
      ],
      "metadata": {
        "id": "b_mJHXcQGI9t"
      }
    },
    {
      "cell_type": "markdown",
      "source": [
        "Задача: Система управления библиотекой\n",
        "\n",
        "**Цель**\n",
        "Создайте простую систему управления библиотекой, которая позволит пользователям добавлять книги, брать книги, возвращать книги и просматривать список доступных книг.\n",
        "\n",
        "**Требования**\n",
        "\n",
        "1. **Определение класса**:\n",
        "   – Создайте класс с именем «Book» со следующими атрибутами:\n",
        "     - `title`\n",
        "     - `автор`\n",
        "     - `isbn`\n",
        "     - `is_borrowed` (по умолчанию `False`)\n",
        "\n",
        "2. **Класс библиотеки**:\n",
        "   - Создайте класс с именем Library, который управляет коллекцией книг.\n",
        "   - Класс должен иметь следующие методы:\n",
        "     - `__init__(self)`: инициализирует пустой список книг.\n",
        "     - `add_book(self, book: Book)`: добавляет новую книгу в библиотеку.\n",
        "     - `borrow_book(self, isbn: str)`: помечает книгу как заимствованную. Если книга не найдена или уже взята, выведите соответствующее сообщение.\n",
        "     - `return_book(self, isbn: str)`: помечает книгу как возвращенную. Если книга не найдена или не была взята взаймы, выведите соответствующее сообщение.\n",
        "     - `list_available_books(self)`: печатает список всех доступных книг в библиотеке.\n",
        "     - `find_book(self, isbn: str)`: возвращает объект книги, если он найден, в противном случае возвращает `None`.\n",
        "\n",
        "3. **Взаимодействие с пользователем**:\n",
        "   - Создайте простое текстовое меню, которое позволит пользователям:\n",
        "     - Добавить книгу\n",
        "     - Одолжить книгу\n",
        "     - Вернуть книгу\n",
        "     - Список доступных книг\n",
        "     - Выйти из программы"
      ],
      "metadata": {
        "id": "pnIUdFPcGOVL"
      }
    },
    {
      "cell_type": "code",
      "source": [
        "class Book:\n",
        "    def __init__(self, title, author, isbn):\n",
        "        self.title = title\n",
        "        self.author = author\n",
        "        self.isbn = isbn\n",
        "        self.is_borrowed = False\n",
        "\n",
        "    def __str__(self):\n",
        "        status = \"доступна\" if not self.is_borrowed else \"выдана\"\n",
        "        return f\"название: {self.title}, автор: {self.author}, isbn: {self.isbn}, статус: {status}\"\n",
        "\n",
        "\n",
        "class Library:\n",
        "    def __init__(self):\n",
        "        self.books = []\n",
        "\n",
        "    def add_book(self, book: Book):\n",
        "        self.books.append(book)\n",
        "        print(f\"книга '{book.title}' добавлена в библиотеку\")\n",
        "\n",
        "    def find_book(self, isbn: str):\n",
        "        for book in self.books:\n",
        "            if book.isbn == isbn:\n",
        "                return book\n",
        "        return None\n",
        "\n",
        "    def borrow_book(self, isbn: str):\n",
        "        book = self.find_book(isbn)\n",
        "        if book:\n",
        "            if book.is_borrowed:\n",
        "                print(f\"книга '{book.title}' уже выдана\")\n",
        "            else:\n",
        "                book.is_borrowed = True\n",
        "                print(f\"вы взяли книгу: '{book.title}'\")\n",
        "        else:\n",
        "            print(\"книга не найдена\")\n",
        "\n",
        "    def return_book(self, isbn: str):\n",
        "        book = self.find_book(isbn)\n",
        "        if book:\n",
        "            if not book.is_borrowed:\n",
        "                print(f\"книга '{book.title}' не была взята взаймы\")\n",
        "            else:\n",
        "                book.is_borrowed = False\n",
        "                print(f\"Книга '{book.title}' возвращена\")\n",
        "        else:\n",
        "            print(\"книга не найдена\")\n",
        "\n",
        "    def list_available_books(self):\n",
        "        available_books = [book for book in self.books if not book.is_borrowed]\n",
        "        if available_books:\n",
        "            print(\"доступные книги:\")\n",
        "            for book in available_books:\n",
        "                print(book)\n",
        "        else:\n",
        "            print(\"нет доступных книг\")\n",
        "\n",
        "\n",
        "\n",
        "def run():\n",
        "    library = Library()\n",
        "\n",
        "    while True:\n",
        "        print(\"\\nМеню:\")\n",
        "        print(\"1. Добавить книгу\")\n",
        "        print(\"2. Одолжить книгу\")\n",
        "        print(\"3. Вернуть книгу\")\n",
        "        print(\"4. Список доступных книг\")\n",
        "        print(\"5. Выйти из программы\")\n",
        "\n",
        "        choice = input(\"Выберите действие: \")\n",
        "\n",
        "        if choice == \"1\":\n",
        "            title = input(\"Введите название книги: \")\n",
        "            author = input(\"Введите автора книги: \")\n",
        "            isbn = input(\"Введите isbn книги: \")\n",
        "            book = Book(title, author, isbn)\n",
        "            library.add_book(book)\n",
        "\n",
        "        elif choice == \"2\":\n",
        "            isbn = input(\"Введите isbn книги для заимствования: \")\n",
        "            library.borrow_book(isbn)\n",
        "\n",
        "        elif choice == \"3\":\n",
        "            isbn = input(\"Введите isbn книги для возврата: \")\n",
        "            library.return_book(isbn)\n",
        "\n",
        "        elif choice == \"4\":\n",
        "            library.list_available_books()\n",
        "\n",
        "        elif choice == \"5\":\n",
        "            break\n",
        "\n",
        "        else:\n",
        "            print(\"цифра эрор\")\n",
        "\n",
        "\n",
        "run()\n"
      ],
      "metadata": {
        "id": "GKKmdfN8GL6f",
        "colab": {
          "base_uri": "https://localhost:8080/"
        },
        "outputId": "9a5e7ad3-74f9-44e8-fc2a-204d928191bd"
      },
      "execution_count": null,
      "outputs": [
        {
          "name": "stdout",
          "output_type": "stream",
          "text": [
            "\n",
            "Меню:\n",
            "1. Добавить книгу\n",
            "2. Одолжить книгу\n",
            "3. Вернуть книгу\n",
            "4. Список доступных книг\n",
            "5. Выйти из программы\n",
            "Выберите действие: 5\n"
          ]
        }
      ]
    }
  ]
}