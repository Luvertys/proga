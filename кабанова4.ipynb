{
  "nbformat": 4,
  "nbformat_minor": 0,
  "metadata": {
    "colab": {
      "provenance": []
    },
    "kernelspec": {
      "name": "python3",
      "display_name": "Python 3"
    },
    "language_info": {
      "name": "python"
    }
  },
  "cells": [
    {
      "cell_type": "markdown",
      "source": [
        "Введите ваше ФИО:"
      ],
      "metadata": {
        "id": "k8oVfdwrMXyc"
      }
    },
    {
      "cell_type": "code",
      "execution_count": null,
      "metadata": {
        "id": "5mcBLsKMI1-5"
      },
      "outputs": [],
      "source": [
        "кабанова валерия евгеньевна"
      ]
    },
    {
      "cell_type": "markdown",
      "source": [
        "***Дисклеймер***\n",
        "\n",
        "В данной практике запрещено использования функций:\n",
        "\n",
        "\n",
        "*   sum()\n",
        "*   min()\n",
        "*   max()\n",
        "*   average()\n",
        "*   reversed()\n",
        "*   sorted()\n",
        "*   готовые функции или библиотеки\n"
      ],
      "metadata": {
        "id": "8HbYUbm3Jw3o"
      }
    },
    {
      "cell_type": "markdown",
      "source": [
        "\n",
        "**Задача 1:**\n",
        "\n",
        "\n",
        "\n",
        "Интернет-магазин предлагает следующие условия скидок:\n",
        "\n",
        "*   Для заказов больше 1000 единиц, клиент получает скидку 5%. Если клиент использует промокод SUPERDISCOUNT, он получает скидку 10% (вместо 5%).\n",
        "*  Для заказов более 5000 единиц, клиент получает скидку 15%, а использование промокода SUPERDISCOUNT увеличивает скидку до 20% (вместо 15%).\n",
        "\n",
        "Этап 1:\n",
        "Ввод:\n",
        "```\n",
        "Введите стоимость единицы товара: 5\n",
        "Введите количество товара: 1001\n",
        "Введите промокод: GiVEMEDISCONT\n",
        "```\n",
        "\n",
        "Вывод:\n",
        "\n",
        "```\n",
        "Ваша скидка: 5%\n",
        "Итоговая сумма: 4754.75\n",
        "```\n",
        "Этап 2:\n",
        "\n",
        "Оформите ваш код в виде функции"
      ],
      "metadata": {
        "id": "HmX0c6YPJSQr"
      }
    },
    {
      "cell_type": "code",
      "source": [
        "def func():\n",
        "    unit_price = int(input('Введите стоимость единицы товара: '))\n",
        "    quantity = int(input('Введите количество товара: '))\n",
        "    promo_code = str(input('Введите промокод: '))\n",
        "\n",
        "    discount = 0\n",
        "\n",
        "    if quantity > 5000:\n",
        "        discount = 15\n",
        "        if promo_code == 'SUPERDISCOUNT':\n",
        "            discount = 20\n",
        "    elif quantity > 1000:\n",
        "        discount = 5\n",
        "        if promo_code == 'SUPERDISCOUNT':\n",
        "            discount = 10\n",
        "\n",
        "    total_price = unit_price * quantity\n",
        "    discounted_price = round(total_price * (1 - discount / 100),2)\n",
        "\n",
        "    print(f'Ваша скидка: {discount}', f'Итоговая сумма: {discounted_price}', sep='\\n')\n",
        "\n",
        "func()"
      ],
      "metadata": {
        "id": "OAIMIpklMN5D",
        "colab": {
          "base_uri": "https://localhost:8080/"
        },
        "outputId": "e19f78dd-1206-48a6-f660-48c00d795647"
      },
      "execution_count": null,
      "outputs": [
        {
          "output_type": "stream",
          "name": "stdout",
          "text": [
            "Введите стоимость единицы товара: 1\n",
            "Введите количество товара: 1\n",
            "Введите промокод: 1\n",
            "Ваша скидка: 0\n",
            "Итоговая сумма: 1.0\n"
          ]
        }
      ]
    },
    {
      "cell_type": "markdown",
      "source": [
        "**Задача 2:**\n",
        "\n",
        "Этап 1:\n",
        "Напишите программу способную отфильтровать список и вывести только положительные элементы\n",
        "\n",
        "\n",
        "Ввод:\n",
        "```\n",
        "-1 5 1 2 -3\n",
        "```\n",
        "\n",
        "Вывод:\n",
        "\n",
        "```\n",
        "5 1 2\n",
        "```\n",
        "\n",
        "Этап 2:\n",
        "\n",
        "Оформите ваш код в виде функции"
      ],
      "metadata": {
        "id": "eeRVWpuLNGJ0"
      }
    },
    {
      "cell_type": "code",
      "source": [
        "def func():\n",
        "    s = map(int, ((str(input())).split()))\n",
        "    a = [i for i in s if i > 0]\n",
        "    print(*a)\n",
        "func()"
      ],
      "metadata": {
        "id": "Xbi6bL0WOE9N",
        "colab": {
          "base_uri": "https://localhost:8080/"
        },
        "outputId": "e617a0fb-df84-4740-c32a-d95c21322c73"
      },
      "execution_count": null,
      "outputs": [
        {
          "output_type": "stream",
          "name": "stdout",
          "text": [
            "1 -1 2\n",
            "1 2\n"
          ]
        }
      ]
    },
    {
      "cell_type": "markdown",
      "source": [
        "**Задача 3:**\n",
        "\n",
        "Этап 1:\n",
        "Напишите программу реализующую Алгоритм Евклида\n",
        "\n",
        "\n",
        "> Алгоритм Евклида – это алгоритм нахождения наибольшего общего делителя (НОД) пары целых чисел.\n",
        "\n",
        "Чуть подробнее, если вы забыли: [link](https://skysmart.ru/articles/mathematic/naibolshij-obshchij-delitel)\n",
        "\n",
        "\n",
        "Ввод:\n",
        "```\n",
        "30 18\n",
        "```\n",
        "\n",
        "Вывод:\n",
        "\n",
        "```\n",
        "6\n",
        "```\n",
        "\n",
        "Этап 2:\n",
        "Оформите ваш код в виде функции\n"
      ],
      "metadata": {
        "id": "lV-w6G-POa6F"
      }
    },
    {
      "cell_type": "code",
      "source": [
        "def func():\n",
        "    a, b = map(int, ((str(input())).split()))\n",
        "    while b != 0:\n",
        "        a, b = b, a % b\n",
        "    print(a)\n",
        "func()"
      ],
      "metadata": {
        "id": "X2n6fnd91yt7",
        "colab": {
          "base_uri": "https://localhost:8080/"
        },
        "outputId": "cde91db4-f5d5-4711-dba1-6a369b6fc93b"
      },
      "execution_count": null,
      "outputs": [
        {
          "output_type": "stream",
          "name": "stdout",
          "text": [
            "30 18\n",
            "6\n"
          ]
        }
      ]
    },
    {
      "cell_type": "markdown",
      "source": [
        "**Задача 4:**\n",
        "\n",
        "Этап 1:\n",
        "Напишите функцию программу, которая принимает строку и возвращает список слов и количество их упомнинаний в предложении\n",
        "\n",
        "Этап 2:\n",
        "Оформите ваш код в виде функции\n",
        "\n",
        "Ввод:\n",
        "```\n",
        "apple banana apple\n",
        "```\n",
        "\n",
        "Вывод:\n",
        "\n",
        "```\n",
        "apple: 2,\n",
        "banana: 1\n",
        "```"
      ],
      "metadata": {
        "id": "WIfPFxpsO0zL"
      }
    },
    {
      "cell_type": "code",
      "source": [
        "def func():\n",
        "    s = (str(input())).split()\n",
        "    sset = set(s)\n",
        "    for i in sset:\n",
        "        q = s.count(i)\n",
        "        print(f'{i}: {q}')\n",
        "func()"
      ],
      "metadata": {
        "id": "DgsmFeW5Po_x",
        "colab": {
          "base_uri": "https://localhost:8080/"
        },
        "outputId": "306729a0-989f-465a-d998-e0244c245be0"
      },
      "execution_count": null,
      "outputs": [
        {
          "output_type": "stream",
          "name": "stdout",
          "text": [
            "qw qw qw wq\n",
            "qw: 3\n",
            "wq: 1\n"
          ]
        }
      ]
    },
    {
      "cell_type": "markdown",
      "source": [
        "**Задача 5:**\n",
        "\n",
        "Этап 1:\n",
        "Детектор анаграмм Напишите программу на Python, которая принимает в качестве входных данных две строки и проверяет, являются ли они анаграммами друг друга\n",
        "\n",
        "Этап 2:\n",
        "Оформите ваш код в виде функции\n",
        "\n",
        "Ввод:\n",
        "```\n",
        "listen, silent\n",
        "```\n",
        "\n",
        "Вывод:\n",
        "\n",
        "```\n",
        "True\n",
        "```"
      ],
      "metadata": {
        "id": "5BmIJLUZP9I-"
      }
    },
    {
      "cell_type": "code",
      "source": [
        "def func():\n",
        "    nepon = True\n",
        "    s = (str(input())).split()\n",
        "    orig, pal = s[0], s[1]\n",
        "    if len(orig) == len(pal):\n",
        "        for i in orig:\n",
        "            if orig.count(i) == pal.count(i):\n",
        "                continue\n",
        "            else:\n",
        "                nepon = False\n",
        "                break\n",
        "    if nepon:\n",
        "        print('True')\n",
        "    else:\n",
        "        print('False')\n",
        "func()"
      ],
      "metadata": {
        "id": "7LNW8DuHQJwH",
        "colab": {
          "base_uri": "https://localhost:8080/"
        },
        "outputId": "a08b8c2c-0d08-4dff-d8dd-7f9508dedbab"
      },
      "execution_count": null,
      "outputs": [
        {
          "output_type": "stream",
          "name": "stdout",
          "text": [
            "qwqw qqww\n",
            "True\n"
          ]
        }
      ]
    },
    {
      "cell_type": "markdown",
      "source": [
        "**Задача 6:**\n",
        "\n",
        "Шифр ​​Цезаря\n",
        "\n",
        "Напишите программу на Python, которая реализует шифр Цезаря, простой метод шифрования, который заменяет каждую букву буквой на фиксированное количество позиций вниз по алфавиту. Программа должна запрашивать у пользователя сообщение и значение сдвига, а затем шифровать и расшифровывать сообщение.\n",
        "Подробнее о шифре Цезаря: [link](https://habr.com/ru/articles/534058/)\n",
        "\n",
        "Этап 1:\n",
        "\n",
        "Напишите код для реализации данной задачи\n",
        "\n",
        "Этап 2:\n",
        "\n",
        "Оформите код в виде нескольких функций:\n",
        "\n",
        "* Зашифровывает сообщение\n",
        "* Расшифровывает сообщение"
      ],
      "metadata": {
        "id": "-SIWYSq2QKBh"
      }
    },
    {
      "cell_type": "code",
      "source": [
        "a = 'абвгдеёжзийклмнопрстуфхцчшщъыьэюя'\n",
        "cringe_a = ''\n",
        "n = int(input())\n",
        "for i in range(len(a)):\n",
        "    cringe_a += a[(i+n)%33]\n",
        "\n",
        "sms = str(input())\n",
        "\n",
        "def get_index(i):\n",
        "    for q in range(len(a)):\n",
        "        if i == a[q]:\n",
        "            return q\n",
        "def get_sukaindex(i):\n",
        "    for q in range(len(a)):\n",
        "        if i == cringe_a[q]:\n",
        "            return q\n",
        "def shifr(sms):\n",
        "    new_sms = ''\n",
        "    for i in range(len(sms)):\n",
        "        if sms[i] == ' ':\n",
        "            new_sms += ' '\n",
        "        else:\n",
        "            new_sms += cringe_a[get_index(sms[i])]\n",
        "    return new_sms\n",
        "\n",
        "def de_shifr(sms):\n",
        "    new_sms = ''\n",
        "    for i in range(len(sms)):\n",
        "        if sms[i] == ' ':\n",
        "            new_sms += ' '\n",
        "        else:\n",
        "            new_sms += a[get_sukaindex(sms[i])]\n",
        "    return new_sms\n",
        "\n",
        "print(shifr(sms), de_shifr(sms))"
      ],
      "metadata": {
        "id": "anThYirsQe6N",
        "colab": {
          "base_uri": "https://localhost:8080/"
        },
        "outputId": "2728cc80-6143-4011-c99f-9fd15bbad664"
      },
      "execution_count": null,
      "outputs": [
        {
          "output_type": "stream",
          "name": "stdout",
          "text": [
            "2\n",
            "йцукенг фывапро ячсмит\n",
            "лшхмжпе цэдвстр бщуокф зфсиглб тщаюном эхпкжр\n"
          ]
        }
      ]
    },
    {
      "cell_type": "markdown",
      "source": [
        "**Задача 7**\n",
        "\n",
        "Задача: «Банковская система»\n",
        "\n",
        "Создайте программу Python, которая имитирует базовую банковскую систему. Система должна иметь следующие функции:\n",
        "\n",
        "Требования\n",
        "*   Система должна позволять клиентам создавать счета и хранить их балансы.\n",
        "*   Система должна позволять клиентам вносить и снимать деньги со своих счетов.\n",
        "*   Система должна позволять клиентам проверять свой текущий баланс.\n",
        "*   Система должна позволять клиентам переводить деньги между счетами.\n",
        "*   Система должна отслеживать транзакции (депозиты, снятия и переводы) и иметь возможность печатать детали транзакций.\n",
        "\n",
        "\n",
        "Задачи\n",
        "1. Реализуйте банковскую систему, используя только базовые конструкции Python, такие как def, lists, if, elif и else, без классов или словарей.\n",
        "Определите функции для создания счетов, внесения и снятия денег, получения балансов счетов, перевода денег между счетами, а также создания и печати транзакций.\n",
        "2. Напишите основную функцию, которая демонстрирует использование банковской системы путем создания счетов, внесения и снятия денег и перевода денег между счетами.\n",
        "3. Бонусное задание\n",
        "Реализуйте способ хранения и печати истории транзакций для каждого счета.\n",
        "\n",
        "Ограничения\n",
        "Не используйте классы или словари.\n",
        "Используйте только базовые конструкции Python, такие как def, lists, if, elif и else.\n"
      ],
      "metadata": {
        "id": "avFZRRXrQz9O"
      }
    },
    {
      "cell_type": "code",
      "source": [
        "accounts = []\n",
        "balances = []\n",
        "transactions = []\n",
        "def create_schet():\n",
        "    account_number = len(accounts) + 1\n",
        "    accounts.append(account_number)\n",
        "    balances.append(0)\n",
        "    transactions.append([])\n",
        "    print(f\"Счет {account_number} создан\")\n",
        "\n",
        "def deposit(account_number, amount):\n",
        "    if account_number in accounts:\n",
        "        index = accounts.index(account_number)\n",
        "        balances[index] += amount\n",
        "        transactions[index].append(f\"Депозит: +{amount} руб.\")\n",
        "        print(f\"Сумма {amount} руб. внесена на счет {account_number}.\")\n",
        "    else:\n",
        "        print(\"Неверный номер счета\")\n",
        "\n",
        "def withdraw(account_number, amount):\n",
        "    if account_number in accounts:\n",
        "        index = accounts.index(account_number)\n",
        "        if balances[index] >= amount:\n",
        "            balances[index] -= amount\n",
        "            transactions[index].append(f\"Снятие: -{amount} руб.\")\n",
        "            print(f\"Снятие на сумму {amount} руб. со счета {account_number}.\")\n",
        "        else:\n",
        "            print(\"Недостаточно средств\")\n",
        "    else:\n",
        "        print(\"Неверный номер счета\")\n",
        "\n",
        "def check_balance(account_number):\n",
        "    if account_number in accounts:\n",
        "        index = accounts.index(account_number)\n",
        "        print(f\"Баланс счета {account_number}: {balances[index]} руб.\")\n",
        "    else:\n",
        "        print(\"Неверный номер счета\")\n",
        "\n",
        "def transfer(from_account, to_account, amount):\n",
        "    if from_account in accounts and to_account in accounts:\n",
        "        from_index = accounts.index(from_account)\n",
        "        to_index = accounts.index(to_account)\n",
        "        if balances[from_index] >= amount:\n",
        "            balances[from_index] -= amount\n",
        "            balances[to_index] += amount\n",
        "            transactions[from_index].append(f\"Перевод на счет {to_account}: -{amount} руб.\")\n",
        "            transactions[to_index].append(f\"Перевод со счета {from_account}: +{amount} руб.\")\n",
        "            print(f\"Перевод на сумму {amount} руб. выполнен со счета {from_account} на счет {to_account}.\")\n",
        "        else:\n",
        "            print(\"Недостаточно средств\")\n",
        "    else:\n",
        "        print(\"Неверный номер счета\")\n",
        "\n",
        "def print_transactions(account_number):\n",
        "    if account_number in accounts:\n",
        "        index = accounts.index(account_number)\n",
        "        print(f\"История транзакций для счета {account_number}:\")\n",
        "        for transaction in transactions[index]:\n",
        "            print(transaction)\n",
        "    else:\n",
        "        print(\"Неверный номер счета\")\n",
        "\n",
        "def func():\n",
        "    create_schet()\n",
        "    create_schet()\n",
        "\n",
        "    deposit(1, 1000)\n",
        "    deposit(2, 2000)\n",
        "\n",
        "    check_balance(1)\n",
        "    check_balance(2)\n",
        "\n",
        "    withdraw(1, 300)\n",
        "\n",
        "    transfer(2, 1, 500)\n",
        "\n",
        "    check_balance(1)\n",
        "    check_balance(2)\n",
        "\n",
        "    print_transactions(1)\n",
        "    print_transactions(2)\n",
        "\n",
        "func()"
      ],
      "metadata": {
        "id": "dWEW10zIRwjs",
        "colab": {
          "base_uri": "https://localhost:8080/"
        },
        "outputId": "0bb060e8-acbd-4e48-b680-890ced68d79b"
      },
      "execution_count": null,
      "outputs": [
        {
          "output_type": "stream",
          "name": "stdout",
          "text": [
            "Счет 1 создан\n",
            "Счет 2 создан\n",
            "Сумма 1000 руб. внесена на счет 1.\n",
            "Сумма 2000 руб. внесена на счет 2.\n",
            "Баланс счета 1: 1000 руб.\n",
            "Баланс счета 2: 2000 руб.\n",
            "Снятие на сумму 300 руб. со счета 1.\n",
            "Перевод на сумму 500 руб. выполнен со счета 2 на счет 1.\n",
            "Баланс счета 1: 1200 руб.\n",
            "Баланс счета 2: 1500 руб.\n",
            "История транзакций для счета 1:\n",
            "Депозит: +1000 руб.\n",
            "Снятие: -300 руб.\n",
            "Перевод со счета 2: +500 руб.\n",
            "История транзакций для счета 2:\n",
            "Депозит: +2000 руб.\n",
            "Перевод на счет 1: -500 руб.\n"
          ]
        }
      ]
    }
  ]
}